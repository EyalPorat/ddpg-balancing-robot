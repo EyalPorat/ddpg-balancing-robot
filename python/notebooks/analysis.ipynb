{
    "cells": [
        {
            "cell_type": "markdown",
            "metadata": {},
            "source": [
                "# Balancing Robot Analysis\n",
                "\n",
                "This notebook provides comprehensive analysis of the trained models and robot behavior."
            ]
        },
        {
            "cell_type": "code",
            "execution_count": 1,
            "metadata": {},
            "outputs": [],
            "source": [
                "import sys\n",
                "sys.path.append('..')\n",
                "\n",
                "import torch\n",
                "import numpy as np\n",
                "import matplotlib.pyplot as plt\n",
                "import seaborn as sns\n",
                "from pathlib import Path\n",
                "from tqdm import tqdm\n",
                "\n",
                "from src.balancing_robot.models import Actor, Critic, SimNet\n",
                "from src.balancing_robot.environment import BalancerEnv, SimNetBalancerEnv\n",
                "from src.balancing_robot.visualization import (\n",
                "    plot_training_metrics,\n",
                "    create_episode_animation,\n",
                "    plot_predictions_comparison,\n",
                "    plot_state_distributions\n",
                ")"
            ]
        },
        {
            "cell_type": "markdown",
            "metadata": {},
            "source": [
                "## Load Models"
            ]
        },
        {
            "cell_type": "code",
            "execution_count": 2,
            "metadata": {},
            "outputs": [
                {
                    "name": "stderr",
                    "output_type": "stream",
                    "text": [
                        "c:\\Users\\eyalp\\AppData\\Local\\Programs\\Python\\Python310\\lib\\site-packages\\gymnasium\\spaces\\box.py:235: UserWarning: \u001b[33mWARN: Box low's precision lowered by casting to float32, current low.dtype=float64\u001b[0m\n",
                        "  gym.logger.warn(\n",
                        "c:\\Users\\eyalp\\AppData\\Local\\Programs\\Python\\Python310\\lib\\site-packages\\gymnasium\\spaces\\box.py:305: UserWarning: \u001b[33mWARN: Box high's precision lowered by casting to float32, current high.dtype=float64\u001b[0m\n",
                        "  gym.logger.warn(\n"
                    ]
                },
                {
                    "ename": "RuntimeError",
                    "evalue": "Error(s) in loading state_dict for SimNet:\n\tMissing key(s) in state_dict: \"hidden_layers.1.weight\", \"hidden_layers.1.bias\", \"hidden_layers.3.weight\", \"hidden_layers.3.bias\", \"hidden_layers.6.weight\", \"hidden_layers.6.bias\", \"hidden_layers.7.weight\", \"hidden_layers.7.bias\". \n\tUnexpected key(s) in state_dict: \"hidden_layers.2.weight\", \"hidden_layers.2.bias\". \n\tsize mismatch for hidden_layers.4.weight: copying a param with shape torch.Size([128, 128]) from checkpoint, the shape in current model is torch.Size([128]).",
                    "output_type": "error",
                    "traceback": [
                        "\u001b[1;31m---------------------------------------------------------------------------\u001b[0m",
                        "\u001b[1;31mRuntimeError\u001b[0m                              Traceback (most recent call last)",
                        "Cell \u001b[1;32mIn[2], line 17\u001b[0m\n\u001b[0;32m     11\u001b[0m simnet_checkpoint \u001b[38;5;241m=\u001b[39m torch\u001b[38;5;241m.\u001b[39mload(\u001b[38;5;124m'\u001b[39m\u001b[38;5;124mlogs/simnet_training/simnet_final.pt\u001b[39m\u001b[38;5;124m'\u001b[39m)\n\u001b[0;32m     12\u001b[0m simnet \u001b[38;5;241m=\u001b[39m SimNet(\n\u001b[0;32m     13\u001b[0m     state_dim\u001b[38;5;241m=\u001b[39msimnet_checkpoint[\u001b[38;5;124m'\u001b[39m\u001b[38;5;124mmetadata\u001b[39m\u001b[38;5;124m'\u001b[39m][\u001b[38;5;124m'\u001b[39m\u001b[38;5;124mstate_dim\u001b[39m\u001b[38;5;124m'\u001b[39m],\n\u001b[0;32m     14\u001b[0m     action_dim\u001b[38;5;241m=\u001b[39msimnet_checkpoint[\u001b[38;5;124m'\u001b[39m\u001b[38;5;124mmetadata\u001b[39m\u001b[38;5;124m'\u001b[39m][\u001b[38;5;124m'\u001b[39m\u001b[38;5;124maction_dim\u001b[39m\u001b[38;5;124m'\u001b[39m],\n\u001b[0;32m     15\u001b[0m     hidden_dims\u001b[38;5;241m=\u001b[39msimnet_checkpoint[\u001b[38;5;124m'\u001b[39m\u001b[38;5;124mmetadata\u001b[39m\u001b[38;5;124m'\u001b[39m][\u001b[38;5;124m'\u001b[39m\u001b[38;5;124mhidden_dims\u001b[39m\u001b[38;5;124m'\u001b[39m]\n\u001b[0;32m     16\u001b[0m )\n\u001b[1;32m---> 17\u001b[0m \u001b[43msimnet\u001b[49m\u001b[38;5;241;43m.\u001b[39;49m\u001b[43mload_state_dict\u001b[49m\u001b[43m(\u001b[49m\u001b[43msimnet_checkpoint\u001b[49m\u001b[43m[\u001b[49m\u001b[38;5;124;43m'\u001b[39;49m\u001b[38;5;124;43mstate_dict\u001b[39;49m\u001b[38;5;124;43m'\u001b[39;49m\u001b[43m]\u001b[49m\u001b[43m)\u001b[49m\n",
                        "File \u001b[1;32mc:\\Users\\eyalp\\AppData\\Local\\Programs\\Python\\Python310\\lib\\site-packages\\torch\\nn\\modules\\module.py:2152\u001b[0m, in \u001b[0;36mModule.load_state_dict\u001b[1;34m(self, state_dict, strict, assign)\u001b[0m\n\u001b[0;32m   2147\u001b[0m         error_msgs\u001b[38;5;241m.\u001b[39minsert(\n\u001b[0;32m   2148\u001b[0m             \u001b[38;5;241m0\u001b[39m, \u001b[38;5;124m'\u001b[39m\u001b[38;5;124mMissing key(s) in state_dict: \u001b[39m\u001b[38;5;132;01m{}\u001b[39;00m\u001b[38;5;124m. \u001b[39m\u001b[38;5;124m'\u001b[39m\u001b[38;5;241m.\u001b[39mformat(\n\u001b[0;32m   2149\u001b[0m                 \u001b[38;5;124m'\u001b[39m\u001b[38;5;124m, \u001b[39m\u001b[38;5;124m'\u001b[39m\u001b[38;5;241m.\u001b[39mjoin(\u001b[38;5;124mf\u001b[39m\u001b[38;5;124m'\u001b[39m\u001b[38;5;124m\"\u001b[39m\u001b[38;5;132;01m{\u001b[39;00mk\u001b[38;5;132;01m}\u001b[39;00m\u001b[38;5;124m\"\u001b[39m\u001b[38;5;124m'\u001b[39m \u001b[38;5;28;01mfor\u001b[39;00m k \u001b[38;5;129;01min\u001b[39;00m missing_keys)))\n\u001b[0;32m   2151\u001b[0m \u001b[38;5;28;01mif\u001b[39;00m \u001b[38;5;28mlen\u001b[39m(error_msgs) \u001b[38;5;241m>\u001b[39m \u001b[38;5;241m0\u001b[39m:\n\u001b[1;32m-> 2152\u001b[0m     \u001b[38;5;28;01mraise\u001b[39;00m \u001b[38;5;167;01mRuntimeError\u001b[39;00m(\u001b[38;5;124m'\u001b[39m\u001b[38;5;124mError(s) in loading state_dict for \u001b[39m\u001b[38;5;132;01m{}\u001b[39;00m\u001b[38;5;124m:\u001b[39m\u001b[38;5;130;01m\\n\u001b[39;00m\u001b[38;5;130;01m\\t\u001b[39;00m\u001b[38;5;132;01m{}\u001b[39;00m\u001b[38;5;124m'\u001b[39m\u001b[38;5;241m.\u001b[39mformat(\n\u001b[0;32m   2153\u001b[0m                        \u001b[38;5;28mself\u001b[39m\u001b[38;5;241m.\u001b[39m\u001b[38;5;18m__class__\u001b[39m\u001b[38;5;241m.\u001b[39m\u001b[38;5;18m__name__\u001b[39m, \u001b[38;5;124m\"\u001b[39m\u001b[38;5;130;01m\\n\u001b[39;00m\u001b[38;5;130;01m\\t\u001b[39;00m\u001b[38;5;124m\"\u001b[39m\u001b[38;5;241m.\u001b[39mjoin(error_msgs)))\n\u001b[0;32m   2154\u001b[0m \u001b[38;5;28;01mreturn\u001b[39;00m _IncompatibleKeys(missing_keys, unexpected_keys)\n",
                        "\u001b[1;31mRuntimeError\u001b[0m: Error(s) in loading state_dict for SimNet:\n\tMissing key(s) in state_dict: \"hidden_layers.1.weight\", \"hidden_layers.1.bias\", \"hidden_layers.3.weight\", \"hidden_layers.3.bias\", \"hidden_layers.6.weight\", \"hidden_layers.6.bias\", \"hidden_layers.7.weight\", \"hidden_layers.7.bias\". \n\tUnexpected key(s) in state_dict: \"hidden_layers.2.weight\", \"hidden_layers.2.bias\". \n\tsize mismatch for hidden_layers.4.weight: copying a param with shape torch.Size([128, 128]) from checkpoint, the shape in current model is torch.Size([128])."
                    ]
                }
            ],
            "source": [
                "# Load DDPG model\n",
                "env = BalancerEnv()\n",
                "state_dim = env.observation_space.shape[0]\n",
                "action_dim = env.action_space.shape[0]\n",
                "max_action = float(env.action_space.high[0])\n",
                "\n",
                "actor = Actor(state_dim, action_dim, max_action)\n",
                "actor.load_state_dict(torch.load('logs/ddpg_training/best_actor.pt')['state_dict'])\n",
                "\n",
                "# Load SimNet model\n",
                "simnet_checkpoint = torch.load('logs/simnet_training/simnet_final.pt')\n",
                "simnet = SimNet(\n",
                "    state_dim=simnet_checkpoint['metadata']['state_dim'],\n",
                "    action_dim=simnet_checkpoint['metadata']['action_dim'],\n",
                "    hidden_dims=simnet_checkpoint['metadata']['hidden_dims']\n",
                ")\n",
                "simnet.load_state_dict(simnet_checkpoint['state_dict'])"
            ]
        },
        {
            "cell_type": "markdown",
            "metadata": {},
            "source": [
                "## Compare Different Simulation Methods"
            ]
        },
        {
            "cell_type": "code",
            "execution_count": null,
            "metadata": {},
            "outputs": [],
            "source": [
                "def run_episode(env, actor, max_steps=500):\n",
                "    \"\"\"Run single episode and collect data.\"\"\"\n",
                "    state = env.reset()\n",
                "    states, actions, rewards = [], [], []\n",
                "    \n",
                "    for _ in range(max_steps):\n",
                "        action = actor.select_action(state)\n",
                "        next_state, reward, done, info = env.step(action)\n",
                "        \n",
                "        states.append(state)\n",
                "        actions.append(action)\n",
                "        rewards.append(reward)\n",
                "        \n",
                "        if done:\n",
                "            break\n",
                "            \n",
                "        state = next_state\n",
                "    \n",
                "    return np.array(states), np.array(actions), np.array(rewards), info\n",
                "\n",
                "# Create environments\n",
                "physics_env = BalancerEnv()\n",
                "simnet_env = SimNetBalancerEnv(simnet=simnet, hybrid_ratio=1.0)\n",
                "hybrid_env = SimNetBalancerEnv(simnet=simnet, hybrid_ratio=0.5)\n",
                "\n",
                "# Run episodes\n",
                "num_episodes = 100\n",
                "results = {\n",
                "    'physics': {'rewards': [], 'lengths': [], 'states': []},\n",
                "    'simnet': {'rewards': [], 'lengths': [], 'states': []},\n",
                "    'hybrid': {'rewards': [], 'lengths': [], 'states': []}\n",
                "}\n",
                "\n",
                "for env_name, env in [\n",
                "    ('physics', physics_env),\n",
                "    ('simnet', simnet_env),\n",
                "    ('hybrid', hybrid_env)\n",
                "]:\n",
                "    for _ in tqdm(range(num_episodes), desc=f\"Running {env_name}\"):\n",
                "        states, actions, rewards, info = run_episode(env, actor)\n",
                "        results[env_name]['rewards'].append(sum(rewards))\n",
                "        results[env_name]['lengths'].append(len(rewards))\n",
                "        results[env_name]['states'].append(states)"
            ]
        },
        {
            "cell_type": "markdown",
            "metadata": {},
            "source": [
                "## Performance Analysis"
            ]
        },
        {
            "cell_type": "code",
            "execution_count": null,
            "metadata": {},
            "outputs": [],
            "source": [
                "# Plot reward distributions\n",
                "plt.figure(figsize=(10, 6))\n",
                "for env_name in results:\n",
                "    sns.kdeplot(results[env_name]['rewards'], label=env_name)\n",
                "plt.title('Reward Distributions')\n",
                "plt.xlabel('Total Episode Reward')\n",
                "plt.legend()\n",
                "plt.grid(True)\n",
                "plt.show()\n",
                "\n",
                "# Plot episode length distributions\n",
                "plt.figure(figsize=(10, 6))\n",
                "for env_name in results:\n",
                "    sns.kdeplot(results[env_name]['lengths'], label=env_name)\n",
                "plt.title('Episode Length Distributions')\n",
                "plt.xlabel('Steps')\n",
                "plt.legend()\n",
                "plt.grid(True)\n",
                "plt.show()"
            ]
        },
        {
            "cell_type": "markdown",
            "metadata": {},
            "source": [
                "## State Space Analysis"
            ]
        },
        {
            "cell_type": "code",
            "execution_count": null,
            "metadata": {},
            "outputs": [],
            "source": [
                "# Plot state distributions for each environment\n",
                "for env_name in results:\n",
                "    states = np.concatenate(results[env_name]['states'])\n",
                "    fig = plot_state_distributions(\n",
                "        states,\n",
                "        save_path=f'logs/analysis/{env_name}_state_dist.png'\n",
                "    )\n",
                "    plt.suptitle(f'State Distributions - {env_name}')\n",
                "    plt.show()"
            ]
        },
        {
            "cell_type": "markdown",
            "metadata": {},
            "source": [
                "## Stability Analysis"
            ]
        },
        {
            "cell_type": "code",
            "execution_count": null,
            "metadata": {},
            "outputs": [],
            "source": [
                "def analyze_stability(states):\n",
                "    \"\"\"Compute stability metrics for episode.\"\"\"\n",
                "    return {\n",
                "        'max_angle': np.max(np.abs(states[:, 0])),\n",
                "        'avg_angle': np.mean(np.abs(states[:, 0])),\n",
                "        'max_pos': np.max(np.abs(states[:, 2])),\n",
                "        'avg_pos': np.mean(np.abs(states[:, 2])),\n",
                "        'angular_velocity_std': np.std(states[:, 1]),\n",
                "        'position_velocity_std': np.std(states[:, 3])\n",
                "    }\n",
                "\n",
                "stability_metrics = {env_name: [] for env_name in results}\n",
                "\n",
                "for env_name in results:\n",
                "    for episode_states in results[env_name]['states']:\n",
                "        metrics = analyze_stability(episode_states)\n",
                "        stability_metrics[env_name].append(metrics)\n",
                "\n",
                "# Plot stability metrics\n",
                "metric_names = list(stability_metrics['physics'][0].keys())\n",
                "fig, axes = plt.subplots(2, 3, figsize=(15, 10))\n",
                "\n",
                "for ax, metric in zip(axes.flat, metric_names):\n",
                "    for env_name in results:\n",
                "        values = [m[metric] for m in stability_metrics[env_name]]\n",
                "        sns.kdeplot(values, label=env_name, ax=ax)\n",
                "    ax.set_title(metric)\n",
                "    ax.grid(True)\n",
                "    ax.legend()\n",
                "\n",
                "plt.tight_layout()\n",
                "plt.show()"
            ]
        },
        {
            "cell_type": "markdown",
            "metadata": {},
            "source": [
                "## Energy Analysis"
            ]
        },
        {
            "cell_type": "code",
            "execution_count": null,
            "metadata": {},
            "outputs": [],
            "source": [
                "def compute_energy_metrics(states, actions):\n",
                "    \"\"\"Compute energy-related metrics.\"\"\"\n",
                "    kinetic_energy = 0.5 * (states[:, 1]**2 + states[:, 3]**2)\n",
                "    potential_energy = 9.81 * (1 - np.cos(states[:, 0])) * 0.025  # mgl(1-cos(theta))\n",
                "    control_effort = np.sum(actions**2)\n",
                "    \n",
                "    return {\n",
                "        'avg_kinetic': np.mean(kinetic_energy),\n",
                "        'max_kinetic': np.max(kinetic_energy),\n",
                "        'avg_potential': np.mean(potential_energy),\n",
                "        'max_potential': np.max(potential_energy),\n",
                "        'total_control_effort': control_effort\n",
                "    }\n",
                "\n",
                "energy_metrics = {env_name: [] for env_name in results}\n",
                "\n",
                "for env_name in results:\n",
                "    for states, actions in zip(results[env_name]['states'],\n",
                "                              results[env_name]['actions']):\n",
                "        metrics = compute_energy_metrics(states, actions)\n",
                "        energy_metrics[env_name].append(metrics)\n",
                "\n",
                "# Plot energy metrics\n",
                "metric_names = list(energy_metrics['physics'][0].keys())\n",
                "fig, axes = plt.subplots(2, 3, figsize=(15, 10))\n",
                "\n",
                "for ax, metric in zip(axes.flat, metric_names):\n",
                "    for env_name in results:\n",
                "        values = [m[metric] for m in energy_metrics[env_name]]\n",
                "        sns.kdeplot(values, label=env_name, ax=ax)\n",
                "    ax.set_title(metric)\n",
                "    ax.grid(True)\n",
                "    ax.legend()\n",
                "\n",
                "plt.tight_layout()\n",
                "plt.show()"
            ]
        },
        {
            "cell_type": "markdown",
            "metadata": {},
            "source": [
                "## Statistical Analysis"
            ]
        },
        {
            "cell_type": "code",
            "execution_count": null,
            "metadata": {},
            "outputs": [],
            "source": [
                "from scipy import stats\n",
                "\n",
                "def perform_statistical_analysis(results):\n",
                "    \"\"\"Perform statistical tests comparing different environments.\"\"\"\n",
                "    metrics = ['rewards', 'lengths']\n",
                "    pairs = [('physics', 'simnet'), \n",
                "             ('physics', 'hybrid'), \n",
                "             ('simnet', 'hybrid')]\n",
                "    \n",
                "    analysis_results = {}\n",
                "    \n",
                "    for metric in metrics:\n",
                "        analysis_results[metric] = {}\n",
                "        \n",
                "        for env1, env2 in pairs:\n",
                "            # T-test\n",
                "            t_stat, p_val = stats.ttest_ind(\n",
                "                results[env1][metric],\n",
                "                results[env2][metric]\n",
                "            )\n",
                "            \n",
                "            # Effect size (Cohen's d)\n",
                "            d = (np.mean(results[env1][metric]) - np.mean(results[env2][metric])) / \\\n",
                "                np.sqrt((np.var(results[env1][metric]) + np.var(results[env2][metric])) / 2)\n",
                "            \n",
                "            analysis_results[metric][f'{env1}_vs_{env2}'] = {\n",
                "                't_statistic': t_stat,\n",
                "                'p_value': p_val,\n",
                "                'cohens_d': d\n",
                "            }\n",
                "    \n",
                "    return analysis_results\n",
                "\n",
                "# Perform analysis\n",
                "stats_results = perform_statistical_analysis(results)\n",
                "\n",
                "# Print results in a formatted table\n",
                "for metric in stats_results:\n",
                "    print(f\"\\n=== {metric.upper()} ===\")\n",
                "    print(f\"{'Comparison':<20} {'t-stat':>10} {'p-value':>10} {'Cohen\\'s d':>10}\")\n",
                "    print(\"-\" * 50)\n",
                "    \n",
                "    for comparison, stats_dict in stats_results[metric].items():\n",
                "        print(f\"{comparison:<20} {stats_dict['t_statistic']:10.3f} \"\n",
                "              f\"{stats_dict['p_value']:10.3f} {stats_dict['cohens_d']:10.3f}\")"
            ]
        },
        {
            "cell_type": "markdown",
            "metadata": {},
            "source": [
                "## SimNet Prediction Analysis"
            ]
        },
        {
            "cell_type": "code",
            "execution_count": null,
            "metadata": {},
            "outputs": [],
            "source": [
                "def analyze_prediction_accuracy(simnet_env, physics_env, num_steps=1000):\n",
                "    \"\"\"Analyze accuracy of SimNet predictions compared to physics.\"\"\"\n",
                "    predictions = {'physics': [], 'simnet': []}\n",
                "    states = []\n",
                "    actions = []\n",
                "    \n",
                "    state = simnet_env.reset()\n",
                "    for _ in range(num_steps):\n",
                "        action = actor.select_action(state)\n",
                "        \n",
                "        # Get predictions from both models\n",
                "        physics_pred, _, _, _, _ = physics_env.step(action)\n",
                "        simnet_pred, _, _, _, _ = simnet_env.simnet(state, action)\n",
                "        \n",
                "        predictions['physics'].append(physics_pred)\n",
                "        predictions['simnet'].append(simnet_pred)\n",
                "        states.append(state)\n",
                "        actions.append(action)\n",
                "        \n",
                "        # Step environment\n",
                "        state, _, done, _ = simnet_env.step(action)\n",
                "        if done:\n",
                "            state = simnet_env.reset()\n",
                "    \n",
                "    return np.array(states), np.array(actions), predictions\n",
                "\n",
                "# Analyze predictions\n",
                "states, actions, predictions = analyze_prediction_accuracy(simnet_env, physics_env)\n",
                "\n",
                "# Plot prediction differences\n",
                "component_names = ['θ (rad)', 'θ̇ (rad/s)', 'x (m)', 'ẋ (m/s)', 'φ (rad)', 'φ̇ (rad/s)']\n",
                "fig, axes = plt.subplots(2, 3, figsize=(15, 10))\n",
                "\n",
                "for i, (ax, name) in enumerate(zip(axes.flat, component_names)):\n",
                "    physics = [p[i] for p in predictions['physics']]\n",
                "    simnet = [p[i] for p in predictions['simnet']]\n",
                "    \n",
                "    ax.scatter(physics, simnet, alpha=0.5, s=1)\n",
                "    ax.plot([-1, 1], [-1, 1], 'r--', alpha=0.8)\n",
                "    ax.set_xlabel('Physics Prediction')\n",
                "    ax.set_ylabel('SimNet Prediction')\n",
                "    ax.set_title(name)\n",
                "    ax.grid(True)\n",
                "\n",
                "plt.tight_layout()\n",
                "plt.show()\n",
                "\n",
                "# Calculate error metrics\n",
                "errors = np.array(predictions['physics']) - np.array(predictions['simnet'])\n",
                "error_metrics = {\n",
                "    'MSE': np.mean(errors**2, axis=0),\n",
                "    'MAE': np.mean(np.abs(errors), axis=0),\n",
                "    'Max Error': np.max(np.abs(errors), axis=0)\n",
                "}\n",
                "\n",
                "print(\"\\nError Metrics:\")\n",
                "print(f\"{'Metric':<10} {'θ':>10} {'θ̇':>10} {'x':>10} {'ẋ':>10} {'φ':>10} {'φ̇':>10}\")\n",
                "print(\"-\" * 70)\n",
                "for metric, values in error_metrics.items():\n",
                "    print(f\"{metric:<10} {values[0]:10.3f} {values[1]:10.3f} {values[2]:10.3f} {values[3]:10.3f} {values[4]:10.3f} {values[5]:10.3f}\")"
            ]
        }
    ],
    "metadata": {
        "kernelspec": {
            "display_name": "Python 3",
            "language": "python",
            "name": "python3"
        },
        "language_info": {
            "codemirror_mode": {
                "name": "ipython",
                "version": 3
            },
            "file_extension": ".py",
            "mimetype": "text/x-python",
            "name": "python",
            "nbconvert_exporter": "python",
            "pygments_lexer": "ipython3",
            "version": "3.10.11"
        }
    },
    "nbformat": 4,
    "nbformat_minor": 2
}
