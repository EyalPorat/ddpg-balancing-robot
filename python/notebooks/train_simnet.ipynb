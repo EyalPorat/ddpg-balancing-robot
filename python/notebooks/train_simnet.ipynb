{
    "cells": [
        {
            "cell_type": "markdown",
            "metadata": {},
            "source": [
                "# SimNet Training for Balancing Robot\n",
                "\n",
                "This notebook trains a SimNet model using both physics simulation data and real-world data."
            ]
        },
        {
            "cell_type": "code",
            "execution_count": 1,
            "metadata": {},
            "outputs": [],
            "source": [
                "import sys\n",
                "sys.path.append('..')\n",
                "\n",
                "import torch\n",
                "import numpy as np\n",
                "from pathlib import Path\n",
                "import json\n",
                "\n",
                "from src.balancing_robot.models import SimNet\n",
                "from src.balancing_robot.environment import BalancerEnv\n",
                "from src.balancing_robot.training import SimNetTrainer\n",
                "from src.balancing_robot.visualization import plot_predictions_comparison"
            ]
        },
        {
            "cell_type": "markdown",
            "metadata": {},
            "source": [
                "## Initialize Models and Environment"
            ]
        },
        {
            "cell_type": "code",
            "execution_count": 10,
            "metadata": {},
            "outputs": [],
            "source": [
                "# Set random seeds\n",
                "torch.manual_seed(42)\n",
                "np.random.seed(42)\n",
                "\n",
                "# Create environment for physics data\n",
                "env = BalancerEnv()\n",
                "\n",
                "# Initialize SimNet\n",
                "state_dim = env.observation_space.shape[0]\n",
                "action_dim = env.action_space.shape[0]\n",
                "simnet = SimNet(\n",
                "    state_dim=state_dim,\n",
                "    action_dim=action_dim,\n",
                "    hidden_dims=(128, 128),\n",
                "    learning_rate=1e-3\n",
                ")\n",
                "\n",
                "# Initialize trainer\n",
                "trainer = SimNetTrainer(\n",
                "    env=env,\n",
                "    config_path=Path('../configs/simnet_config.yaml'),\n",
                ")"
            ]
        },
        {
            "cell_type": "markdown",
            "metadata": {},
            "source": [
                "## Collect and Process Physics Data"
            ]
        },
        {
            "cell_type": "code",
            "execution_count": 13,
            "metadata": {},
            "outputs": [
                {
                    "name": "stderr",
                    "output_type": "stream",
                    "text": [
                        "Collecting physics data:   0%|          | 0/100000 [00:00<?, ?it/s]\n"
                    ]
                },
                {
                    "ename": "ValueError",
                    "evalue": "setting an array element with a sequence. The requested array has an inhomogeneous shape after 1 dimensions. The detected shape was (3,) + inhomogeneous part.",
                    "output_type": "error",
                    "traceback": [
                        "\u001b[1;31m---------------------------------------------------------------------------\u001b[0m",
                        "\u001b[1;31mValueError\u001b[0m                                Traceback (most recent call last)",
                        "Cell \u001b[1;32mIn[13], line 3\u001b[0m\n\u001b[0;32m      1\u001b[0m \u001b[38;5;66;03m# Collect physics simulation data\u001b[39;00m\n\u001b[0;32m      2\u001b[0m num_samples \u001b[38;5;241m=\u001b[39m \u001b[38;5;241m100000\u001b[39m\n\u001b[1;32m----> 3\u001b[0m train_data, val_data \u001b[38;5;241m=\u001b[39m \u001b[43mtrainer\u001b[49m\u001b[38;5;241;43m.\u001b[39;49m\u001b[43mcollect_physics_data\u001b[49m\u001b[43m(\u001b[49m\u001b[43m)\u001b[49m\n\u001b[0;32m      5\u001b[0m \u001b[38;5;28mprint\u001b[39m(\u001b[38;5;124mf\u001b[39m\u001b[38;5;124m\"\u001b[39m\u001b[38;5;124mCollected \u001b[39m\u001b[38;5;132;01m{\u001b[39;00m\u001b[38;5;28mlen\u001b[39m(train_data[\u001b[38;5;124m'\u001b[39m\u001b[38;5;124mstates\u001b[39m\u001b[38;5;124m'\u001b[39m])\u001b[38;5;132;01m}\u001b[39;00m\u001b[38;5;124m training samples\u001b[39m\u001b[38;5;124m\"\u001b[39m)\n\u001b[0;32m      6\u001b[0m \u001b[38;5;28mprint\u001b[39m(\u001b[38;5;124mf\u001b[39m\u001b[38;5;124m\"\u001b[39m\u001b[38;5;124mCollected \u001b[39m\u001b[38;5;132;01m{\u001b[39;00m\u001b[38;5;28mlen\u001b[39m(val_data[\u001b[38;5;124m'\u001b[39m\u001b[38;5;124mstates\u001b[39m\u001b[38;5;124m'\u001b[39m])\u001b[38;5;132;01m}\u001b[39;00m\u001b[38;5;124m validation samples\u001b[39m\u001b[38;5;124m\"\u001b[39m)\n",
                        "File \u001b[1;32mc:\\Users\\eyalp\\Documents\\PlatformIO\\Projects\\balancing_robot\\python\\notebooks\\..\\src\\balancing_robot\\training\\simnet_trainer.py:121\u001b[0m, in \u001b[0;36mSimNetTrainer.collect_physics_data\u001b[1;34m(self)\u001b[0m\n\u001b[0;32m    118\u001b[0m action \u001b[38;5;241m=\u001b[39m np\u001b[38;5;241m.\u001b[39mclip(action \u001b[38;5;241m+\u001b[39m np\u001b[38;5;241m.\u001b[39mrandom\u001b[38;5;241m.\u001b[39mnormal(\u001b[38;5;241m0\u001b[39m, noise_std), \u001b[38;5;241m-\u001b[39m\u001b[38;5;241m1\u001b[39m, \u001b[38;5;241m1\u001b[39m)\n\u001b[0;32m    120\u001b[0m \u001b[38;5;66;03m# Get accelerations from physics\u001b[39;00m\n\u001b[1;32m--> 121\u001b[0m accel \u001b[38;5;241m=\u001b[39m \u001b[38;5;28;43mself\u001b[39;49m\u001b[38;5;241;43m.\u001b[39;49m\u001b[43menv\u001b[49m\u001b[38;5;241;43m.\u001b[39;49m\u001b[43mphysics\u001b[49m\u001b[38;5;241;43m.\u001b[39;49m\u001b[43mget_acceleration\u001b[49m\u001b[43m(\u001b[49m\u001b[43mstate\u001b[49m\u001b[43m,\u001b[49m\u001b[43m \u001b[49m\u001b[43maction\u001b[49m\u001b[43m)\u001b[49m\n\u001b[0;32m    123\u001b[0m states\u001b[38;5;241m.\u001b[39mappend(state\u001b[38;5;241m.\u001b[39mcopy())\n\u001b[0;32m    124\u001b[0m actions\u001b[38;5;241m.\u001b[39mappend(action)\n",
                        "File \u001b[1;32mc:\\Users\\eyalp\\Documents\\PlatformIO\\Projects\\balancing_robot\\python\\notebooks\\..\\src\\balancing_robot\\environment\\physics.py:106\u001b[0m, in \u001b[0;36mPhysicsEngine.get_acceleration\u001b[1;34m(self, state, torque, simnet)\u001b[0m\n\u001b[0;32m    103\u001b[0m     x_ddot \u001b[38;5;241m=\u001b[39m (effective_force \u001b[38;5;241m-\u001b[39m p\u001b[38;5;241m.\u001b[39mM \u001b[38;5;241m*\u001b[39m p\u001b[38;5;241m.\u001b[39ml \u001b[38;5;241m*\u001b[39m theta_ddot \u001b[38;5;241m*\u001b[39m np\u001b[38;5;241m.\u001b[39mcos(theta)) \u001b[38;5;241m/\u001b[39m (p\u001b[38;5;241m.\u001b[39mM \u001b[38;5;241m+\u001b[39m \u001b[38;5;241m2\u001b[39m \u001b[38;5;241m*\u001b[39m p\u001b[38;5;241m.\u001b[39mm)\n\u001b[0;32m    104\u001b[0m     phi_ddot \u001b[38;5;241m=\u001b[39m torque\u001b[38;5;241m.\u001b[39mitem() \u001b[38;5;241m/\u001b[39m p\u001b[38;5;241m.\u001b[39mi\n\u001b[1;32m--> 106\u001b[0m \u001b[38;5;28;01mreturn\u001b[39;00m \u001b[43mnp\u001b[49m\u001b[38;5;241;43m.\u001b[39;49m\u001b[43marray\u001b[49m\u001b[43m(\u001b[49m\u001b[43m[\u001b[49m\u001b[43mtheta_ddot\u001b[49m\u001b[43m,\u001b[49m\u001b[43m \u001b[49m\u001b[43mx_ddot\u001b[49m\u001b[43m,\u001b[49m\u001b[43m \u001b[49m\u001b[43mphi_ddot\u001b[49m\u001b[43m]\u001b[49m\u001b[43m)\u001b[49m\n",
                        "\u001b[1;31mValueError\u001b[0m: setting an array element with a sequence. The requested array has an inhomogeneous shape after 1 dimensions. The detected shape was (3,) + inhomogeneous part."
                    ]
                }
            ],
            "source": [
                "# Collect physics simulation data\n",
                "num_samples = 100000\n",
                "train_data, val_data = trainer.collect_physics_data()\n",
                "\n",
                "print(f\"Collected {len(train_data['states'])} training samples\")\n",
                "print(f\"Collected {len(val_data['states'])} validation samples\")"
            ]
        },
        {
            "cell_type": "markdown",
            "metadata": {},
            "source": [
                "## Train on Physics Data"
            ]
        },
        {
            "cell_type": "code",
            "execution_count": null,
            "metadata": {},
            "outputs": [],
            "source": [
                "# Create log directory\n",
                "log_dir = Path('logs/simnet_training')\n",
                "log_dir.mkdir(parents=True, exist_ok=True)\n",
                "\n",
                "# Train on physics data\n",
                "physics_history = trainer.train(\n",
                "    train_data=train_data,\n",
                "    val_data=val_data,\n",
                "    num_epochs=50,\n",
                "    batch_size=512,\n",
                "    log_dir=log_dir / 'physics'\n",
                ")"
            ]
        },
        {
            "cell_type": "markdown",
            "metadata": {},
            "source": [
                "## Load and Process Real-World Data"
            ]
        },
        {
            "cell_type": "code",
            "execution_count": null,
            "metadata": {},
            "outputs": [],
            "source": [
                "# Load real-world log data\n",
                "log_file = Path('data/robot_logs.json')\n",
                "with open(log_file, 'r') as f:\n",
                "    log_data = json.load(f)\n",
                "\n",
                "# Process real data\n",
                "real_train_data, real_val_data = trainer.process_real_data(log_data['episodes'])\n",
                "\n",
                "print(f\"Processed {len(real_train_data['states'])} real training samples\")\n",
                "print(f\"Processed {len(real_val_data['states'])} real validation samples\")"
            ]
        },
        {
            "cell_type": "markdown",
            "metadata": {},
            "source": [
                "## Fine-tune on Real Data"
            ]
        },
        {
            "cell_type": "code",
            "execution_count": null,
            "metadata": {},
            "outputs": [],
            "source": [
                "# Fine-tune on real data\n",
                "real_history = trainer.train(\n",
                "    train_data=real_train_data,\n",
                "    val_data=real_val_data,\n",
                "    num_epochs=20,\n",
                "    batch_size=128,\n",
                "    log_dir=log_dir / 'real'\n",
                ")"
            ]
        },
        {
            "cell_type": "markdown",
            "metadata": {},
            "source": [
                "## Analyze Predictions"
            ]
        },
        {
            "cell_type": "code",
            "execution_count": null,
            "metadata": {},
            "outputs": [],
            "source": [
                "# Compare physics and SimNet predictions\n",
                "test_states = val_data['states'][:1000]\n",
                "test_actions = val_data['actions'][:1000]\n",
                "\n",
                "physics_preds = np.array([env.physics.get_acceleration(state, action) \n",
                "                         for state, action in zip(test_states, test_actions)])\n",
                "\n",
                "simnet_preds = np.array([simnet.get_accelerations(state, action)\n",
                "                         for state, action in zip(test_states, test_actions)])\n",
                "\n",
                "# Plot comparison\n",
                "fig = plot_predictions_comparison(\n",
                "    physics_preds=physics_preds,\n",
                "    simnet_preds=simnet_preds,\n",
                "    save_path=log_dir / 'prediction_comparison.png'\n",
                ")\n",
                "plt.show()"
            ]
        },
        {
            "cell_type": "markdown",
            "metadata": {},
            "source": [
                "## Save Final Model"
            ]
        },
        {
            "cell_type": "code",
            "execution_count": null,
            "metadata": {},
            "outputs": [],
            "source": [
                "# Save trained SimNet\n",
                "torch.save({\n",
                "    'state_dict': simnet.state_dict(),\n",
                "    'physics_history': physics_history,\n",
                "    'real_history': real_history,\n",
                "    'metadata': {\n",
                "        'state_dim': state_dim,\n",
                "        'action_dim': action_dim,\n",
                "        'hidden_dims': (128, 128)\n",
                "    }\n",
                "}, log_dir / 'simnet_final.pt')"
            ]
        }
    ],
    "metadata": {
        "kernelspec": {
            "display_name": "Python 3",
            "language": "python",
            "name": "python3"
        },
        "language_info": {
            "codemirror_mode": {
                "name": "ipython",
                "version": 3
            },
            "file_extension": ".py",
            "mimetype": "text/x-python",
            "name": "python",
            "nbconvert_exporter": "python",
            "pygments_lexer": "ipython3",
            "version": "3.10.11"
        }
    },
    "nbformat": 4,
    "nbformat_minor": 2
}
